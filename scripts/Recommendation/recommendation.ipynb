{
  "nbformat": 4,
  "nbformat_minor": 0,
  "metadata": {
    "colab": {
      "provenance": [],
      "gpuType": "V28"
    },
    "kernelspec": {
      "name": "python3",
      "display_name": "Python 3"
    },
    "language_info": {
      "name": "python"
    },
    "accelerator": "TPU"
  },
  "cells": [
    {
      "cell_type": "code",
      "source": [
        "!pip install pandas numpy scikit-surprise"
      ],
      "metadata": {
        "colab": {
          "base_uri": "https://localhost:8080/"
        },
        "id": "LNc7Bmq3aTaO",
        "outputId": "3308fe78-f268-4f45-ba5d-7a9c6a582111"
      },
      "execution_count": null,
      "outputs": [
        {
          "output_type": "stream",
          "name": "stdout",
          "text": [
            "Requirement already satisfied: pandas in /usr/local/lib/python3.11/dist-packages (2.2.2)\n",
            "Requirement already satisfied: numpy in /usr/local/lib/python3.11/dist-packages (2.0.2)\n",
            "Collecting scikit-surprise\n",
            "  Downloading scikit_surprise-1.1.4.tar.gz (154 kB)\n",
            "\u001b[2K     \u001b[90m━━━━━━━━━━━━━━━━━━━━━━━━━━━━━━━━━━━━━━━\u001b[0m \u001b[32m154.4/154.4 kB\u001b[0m \u001b[31m1.6 MB/s\u001b[0m eta \u001b[36m0:00:00\u001b[0m\n",
            "\u001b[?25h  Installing build dependencies ... \u001b[?25l\u001b[?25hdone\n",
            "  Getting requirements to build wheel ... \u001b[?25l\u001b[?25hdone\n",
            "  Preparing metadata (pyproject.toml) ... \u001b[?25l\u001b[?25hdone\n",
            "Requirement already satisfied: python-dateutil>=2.8.2 in /usr/local/lib/python3.11/dist-packages (from pandas) (2.9.0.post0)\n",
            "Requirement already satisfied: pytz>=2020.1 in /usr/local/lib/python3.11/dist-packages (from pandas) (2025.2)\n",
            "Requirement already satisfied: tzdata>=2022.7 in /usr/local/lib/python3.11/dist-packages (from pandas) (2025.2)\n",
            "Requirement already satisfied: joblib>=1.2.0 in /usr/local/lib/python3.11/dist-packages (from scikit-surprise) (1.4.2)\n",
            "Requirement already satisfied: scipy>=1.6.0 in /usr/local/lib/python3.11/dist-packages (from scikit-surprise) (1.14.1)\n",
            "Requirement already satisfied: six>=1.5 in /usr/local/lib/python3.11/dist-packages (from python-dateutil>=2.8.2->pandas) (1.17.0)\n",
            "Building wheels for collected packages: scikit-surprise\n",
            "  Building wheel for scikit-surprise (pyproject.toml) ... \u001b[?25l\u001b[?25hdone\n",
            "  Created wheel for scikit-surprise: filename=scikit_surprise-1.1.4-cp311-cp311-linux_x86_64.whl size=2505221 sha256=ee061953da11813f18b72002f810eb8bafc5eff2a7d57b8632e1f9c9a35cbbaf\n",
            "  Stored in directory: /root/.cache/pip/wheels/2a/8f/6e/7e2899163e2d85d8266daab4aa1cdabec7a6c56f83c015b5af\n",
            "Successfully built scikit-surprise\n",
            "Installing collected packages: scikit-surprise\n",
            "Successfully installed scikit-surprise-1.1.4\n"
          ]
        }
      ]
    },
    {
      "cell_type": "code",
      "source": [
        "!pip install numpy==1.24.4 --force-reinstall"
      ],
      "metadata": {
        "colab": {
          "base_uri": "https://localhost:8080/",
          "height": 403
        },
        "id": "shobSLTybO9l",
        "outputId": "84476cc2-703d-4a2f-b7a5-01307842ebc8"
      },
      "execution_count": null,
      "outputs": [
        {
          "output_type": "stream",
          "name": "stdout",
          "text": [
            "Collecting numpy==1.24.4\n",
            "  Downloading numpy-1.24.4-cp311-cp311-manylinux_2_17_x86_64.manylinux2014_x86_64.whl.metadata (5.6 kB)\n",
            "Downloading numpy-1.24.4-cp311-cp311-manylinux_2_17_x86_64.manylinux2014_x86_64.whl (17.3 MB)\n",
            "\u001b[2K   \u001b[90m━━━━━━━━━━━━━━━━━━━━━━━━━━━━━━━━━━━━━━━━\u001b[0m \u001b[32m17.3/17.3 MB\u001b[0m \u001b[31m77.5 MB/s\u001b[0m eta \u001b[36m0:00:00\u001b[0m\n",
            "\u001b[?25hInstalling collected packages: numpy\n",
            "  Attempting uninstall: numpy\n",
            "    Found existing installation: numpy 2.0.2\n",
            "    Uninstalling numpy-2.0.2:\n",
            "      Successfully uninstalled numpy-2.0.2\n",
            "\u001b[31mERROR: pip's dependency resolver does not currently take into account all the packages that are installed. This behaviour is the source of the following dependency conflicts.\n",
            "thinc 8.3.6 requires numpy<3.0.0,>=2.0.0, but you have numpy 1.24.4 which is incompatible.\n",
            "jaxlib 0.5.1 requires numpy>=1.25, but you have numpy 1.24.4 which is incompatible.\n",
            "treescope 0.1.9 requires numpy>=1.25.2, but you have numpy 1.24.4 which is incompatible.\n",
            "jax 0.5.2 requires numpy>=1.25, but you have numpy 1.24.4 which is incompatible.\u001b[0m\u001b[31m\n",
            "\u001b[0mSuccessfully installed numpy-1.24.4\n"
          ]
        },
        {
          "output_type": "display_data",
          "data": {
            "application/vnd.colab-display-data+json": {
              "pip_warning": {
                "packages": [
                  "numpy"
                ]
              },
              "id": "c2a82efc8dcd4b87b4f3d181b523c063"
            }
          },
          "metadata": {}
        }
      ]
    },
    {
      "cell_type": "code",
      "execution_count": null,
      "metadata": {
        "colab": {
          "base_uri": "https://localhost:8080/"
        },
        "id": "D5mriYwvXb3H",
        "outputId": "97d7f3a2-f874-4d71-c83b-6b936474f466"
      },
      "outputs": [
        {
          "output_type": "stream",
          "name": "stdout",
          "text": [
            "Loading ratings_export.csv...\n",
            "Loading user_ratings.csv...\n",
            "\n",
            "Top recommendations for user 'test_user':\n",
            "Movie: the-lord-of-the-rings-collection, Predicted Rating: 9.83\n",
            "Movie: the-human-condition, Predicted Rating: 9.73\n",
            "Movie: cowboy-bebop, Predicted Rating: 9.72\n",
            "Movie: the-vietnam-war, Predicted Rating: 9.67\n",
            "Movie: come-and-see, Predicted Rating: 9.61\n",
            "\n",
            "Recommendations saved to recommendations_for_user.csv\n",
            "                        movie_id  predicted_rating\n",
            "the-lord-of-the-rings-collection          9.826667\n",
            "             the-human-condition          9.726286\n",
            "                    cowboy-bebop          9.718794\n",
            "                 the-vietnam-war          9.671640\n",
            "                    come-and-see          9.606568\n"
          ]
        }
      ],
      "source": [
        "import pandas as pd\n",
        "import numpy as np\n",
        "import random\n",
        "from surprise import Dataset, Reader, SVD\n",
        "\n",
        "RANDOM_SEED = 12\n",
        "random.seed(RANDOM_SEED)\n",
        "np.random.seed(RANDOM_SEED)\n",
        "\n",
        "# 1. Load the Full Ratings Dataset\n",
        "print(\"Loading ratings_export.csv...\")\n",
        "ratings_export = pd.read_csv(\"/content/ratings_export.csv\")\n",
        "# We only need the user_id, movie_id, and rating_val columns for the recommendation model:\n",
        "ratings_export = ratings_export[[\"user_id\", \"movie_id\", \"rating_val\"]]\n",
        "\n",
        "# 2. Load the User's Ratings\n",
        "print(\"Loading user_ratings.csv...\")\n",
        "user_ratings = pd.read_csv(\"/content/user_ratings.csv\")\n",
        "user_ratings = user_ratings[[\"user_id\", \"movie_id\", \"rating_val\"]]\n",
        "\n",
        "\n",
        "# 3. Combine the full training dataset with the target user's ratings.\n",
        "combined_data = pd.concat([ratings_export, user_ratings], ignore_index=True)\n",
        "combined_data.drop_duplicates(inplace=True)\n",
        "\n",
        "# 4. Build the SVD Model Using Surprise\n",
        "# Define the reader with the appropriate rating scale. (ratings are between 1 and 10.)\n",
        "reader = Reader(rating_scale=(1, 10))\n",
        "data = Dataset.load_from_df(combined_data[[\"user_id\", \"movie_id\", \"rating_val\"]], reader)\n",
        "trainset = data.build_full_trainset()\n",
        "\n",
        "# Initialize and train the SVD algorithm\n",
        "algo = SVD(random_state=RANDOM_SEED)\n",
        "algo.fit(trainset)\n",
        "\n",
        "# 5. Generate Recommendations for the Target User\n",
        "# Get the list of all movies in the combined data\n",
        "all_movies = combined_data[\"movie_id\"].unique().tolist()\n",
        "# Identify the target user id (assuming all rows in user_ratings belong to the same user)\n",
        "target_user_id = user_ratings[\"user_id\"].iloc[0]\n",
        "# Find movies already rated by this user\n",
        "rated_movies = user_ratings[\"movie_id\"].unique().tolist()\n",
        "# Build a list of movies the user hasn't rated\n",
        "movies_to_predict = [m for m in all_movies if m not in rated_movies]\n",
        "\n",
        "# Predict ratings for the movies not yet rated by the target user\n",
        "predictions = []\n",
        "for movie_id in movies_to_predict:\n",
        "    pred = algo.predict(target_user_id, movie_id)\n",
        "    predictions.append((movie_id, pred.est))\n",
        "\n",
        "# Sort the movies based on the predicted rating (descending order)\n",
        "predictions.sort(key=lambda x: x[1], reverse=True)\n",
        "\n",
        "# Set the number of recommendations you want\n",
        "top_n = 5\n",
        "top_recommendations = predictions[:top_n]\n",
        "\n",
        "# 6. Output Recommendations\n",
        "print(f\"\\nTop recommendations for user '{target_user_id}':\")\n",
        "for movie_id, est_rating in top_recommendations:\n",
        "    print(f\"Movie: {movie_id}, Predicted Rating: {est_rating:.2f}\")\n",
        "\n",
        "# Save the recommendations to a CSV file\n",
        "recommendations_df = pd.DataFrame(top_recommendations, columns=[\"movie_id\", \"predicted_rating\"])\n",
        "recommendations_df.to_csv(\"recommendations_for_user.csv\", index=False)\n",
        "print(\"\\nRecommendations saved to recommendations_for_user.csv\")\n",
        "rec_df = pd.read_csv(\"recommendations_for_user.csv\")\n",
        "print(rec_df.to_string(index=False))"
      ]
    },
    {
      "cell_type": "markdown",
      "source": [
        "Save model"
      ],
      "metadata": {
        "id": "DZ7cnqReaBfq"
      }
    },
    {
      "cell_type": "code",
      "source": [
        "from surprise.dump import dump\n",
        "\n",
        "# After fitting the model in step 4:\n",
        "algo.fit(trainset)\n",
        "\n",
        "# Save the trained model to a file, for example \"svd_model.pkl\"\n",
        "dump(\"svd_model.pkl\", predictions=None, algo=algo, verbose=True)\n"
      ],
      "metadata": {
        "colab": {
          "base_uri": "https://localhost:8080/"
        },
        "id": "-N7aHQC2aCUa",
        "outputId": "3c93ff05-23ef-4c74-ddf5-4ea10c3afa63"
      },
      "execution_count": null,
      "outputs": [
        {
          "output_type": "stream",
          "name": "stdout",
          "text": [
            "The dump has been saved as file svd_model.pkl\n"
          ]
        }
      ]
    },
    {
      "cell_type": "markdown",
      "source": [
        "Regenerate using saved model file"
      ],
      "metadata": {
        "id": "idE0mOgVeDRp"
      }
    },
    {
      "cell_type": "code",
      "source": [
        "import pandas as pd\n",
        "from surprise.dump import load\n",
        "\n",
        "# -------------------------------\n",
        "# 1. Load the Pre-Trained Model\n",
        "# -------------------------------\n",
        "# Load your pre-trained SVD model from the saved pkl file.\n",
        "_, algo = load(\"/content/svd_model.pkl\")\n",
        "\n",
        "# -------------------------------\n",
        "# 2. Load the New User's Ratings\n",
        "# -------------------------------\n",
        "# Read the CSV file containing the new user's ratings.\n",
        "user_ratings = pd.read_csv(\"/content/user_ratings.csv\")\n",
        "# Ensure we have only the necessary columns: user_id, movie_id, rating_val\n",
        "user_ratings = user_ratings[[\"user_id\", \"movie_id\", \"rating_val\"]]\n",
        "target_user_id = user_ratings[\"user_id\"].iloc[0]\n",
        "rated_movies = user_ratings[\"movie_id\"].unique().tolist()\n",
        "\n",
        "# -------------------------------\n",
        "# 3. Load the Movie Data\n",
        "# -------------------------------\n",
        "# Load the movie metadata file containing all movies mentioned in ratings_export.csv.\n",
        "movie_data = pd.read_csv(\"/content/movie_data.csv\", engine='python')\n",
        "# Extract the list of all movie ids\n",
        "all_movies = movie_data[\"movie_id\"].unique().tolist()\n",
        "\n",
        "# Exclude movies the user already rated.\n",
        "movies_to_predict = [m for m in all_movies if m not in rated_movies]\n",
        "\n",
        "# -------------------------------\n",
        "# 4. Generate Recommendations for the New User\n",
        "# -------------------------------\n",
        "predictions = []\n",
        "for movie_id in movies_to_predict:\n",
        "    pred = algo.predict(target_user_id, movie_id)\n",
        "    predictions.append((movie_id, pred.est))\n",
        "\n",
        "# Sort predictions by estimated rating in descending order\n",
        "predictions.sort(key=lambda x: x[1], reverse=True)\n",
        "\n",
        "# Select the top N recommendations (for example, top 5)\n",
        "top_n = 5\n",
        "top_recommendations = predictions[:top_n]\n",
        "\n",
        "# -------------------------------\n",
        "# 5. Print Recommendations to Console\n",
        "# -------------------------------\n",
        "print(f\"Top recommendations for user '{target_user_id}':\")\n",
        "for movie_id, est_rating in top_recommendations:\n",
        "    print(f\"Movie: {movie_id}, Predicted Rating: {est_rating:.2f}\")"
      ],
      "metadata": {
        "colab": {
          "base_uri": "https://localhost:8080/"
        },
        "id": "bYC8EC0seFBm",
        "outputId": "7b19b67d-e1ba-4e9a-a27f-71ff6cc034f4"
      },
      "execution_count": null,
      "outputs": [
        {
          "output_type": "stream",
          "name": "stdout",
          "text": [
            "Top recommendations for user 'test_user':\n",
            "Movie: the-lord-of-the-rings-collection, Predicted Rating: 9.83\n",
            "Movie: the-human-condition, Predicted Rating: 9.73\n",
            "Movie: cowboy-bebop, Predicted Rating: 9.72\n",
            "Movie: the-vietnam-war, Predicted Rating: 9.67\n",
            "Movie: come-and-see, Predicted Rating: 9.61\n"
          ]
        }
      ]
    }
  ]
}